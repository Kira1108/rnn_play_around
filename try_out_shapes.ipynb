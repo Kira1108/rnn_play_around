{
 "cells": [
  {
   "cell_type": "code",
   "execution_count": 1,
   "metadata": {},
   "outputs": [
    {
     "name": "stderr",
     "output_type": "stream",
     "text": [
      "Using TensorFlow backend.\n"
     ]
    }
   ],
   "source": [
    "import numpy as np\n",
    "import tensorflow as tf\n",
    "from keras.models import Model\n",
    "from keras.layers import Dense, Input, RepeatVector, Dot, Concatenate, LSTM, Bidirectional"
   ]
  },
  {
   "cell_type": "markdown",
   "metadata": {},
   "source": [
    "### RepeatVector\n",
    "1. You have a vector, but requires a batch dimension\n",
    "2. Only 2 dimensional vector can be passed to RepeatVector\n",
    "3. Added a dimension between batch dimension and original dimension\n",
    "4. If ignore batch dimension, repeat vector adds one dimension at the begining"
   ]
  },
  {
   "cell_type": "code",
   "execution_count": 2,
   "metadata": {},
   "outputs": [
    {
     "data": {
      "text/plain": [
       "array([[7, 8, 7, 1, 3, 9, 9, 7, 8, 1, 9, 4]])"
      ]
     },
     "execution_count": 2,
     "metadata": {},
     "output_type": "execute_result"
    }
   ],
   "source": [
    "dim = 12\n",
    "vec = np.random.randint(1,10,size = (1, dim))\n",
    "vec"
   ]
  },
  {
   "cell_type": "code",
   "execution_count": 3,
   "metadata": {},
   "outputs": [],
   "source": [
    "inputs = Input(shape = (dim,))\n",
    "outputs = RepeatVector(3)(inputs)\n",
    "model = Model(inputs = inputs, outputs = outputs)"
   ]
  },
  {
   "cell_type": "code",
   "execution_count": 4,
   "metadata": {},
   "outputs": [
    {
     "name": "stderr",
     "output_type": "stream",
     "text": [
      "WARNING: Logging before flag parsing goes to stderr.\n",
      "W0330 18:18:35.343700 23416 deprecation_wrapper.py:119] From C:\\ProgramData\\Anaconda3\\lib\\site-packages\\keras\\backend\\tensorflow_backend.py:422: The name tf.global_variables is deprecated. Please use tf.compat.v1.global_variables instead.\n",
      "\n"
     ]
    },
    {
     "data": {
      "text/plain": [
       "array([[[7., 8., 7., 1., 3., 9., 9., 7., 8., 1., 9., 4.],\n",
       "        [7., 8., 7., 1., 3., 9., 9., 7., 8., 1., 9., 4.],\n",
       "        [7., 8., 7., 1., 3., 9., 9., 7., 8., 1., 9., 4.]]], dtype=float32)"
      ]
     },
     "execution_count": 4,
     "metadata": {},
     "output_type": "execute_result"
    }
   ],
   "source": [
    "model.predict(vec)"
   ]
  },
  {
   "cell_type": "code",
   "execution_count": 5,
   "metadata": {},
   "outputs": [
    {
     "data": {
      "text/plain": [
       "(1, 3, 12)"
      ]
     },
     "execution_count": 5,
     "metadata": {},
     "output_type": "execute_result"
    }
   ],
   "source": [
    "model.predict(vec).shape"
   ]
  },
  {
   "cell_type": "markdown",
   "metadata": {},
   "source": [
    "high dimensional vector rasises an error"
   ]
  },
  {
   "cell_type": "code",
   "execution_count": 6,
   "metadata": {},
   "outputs": [],
   "source": [
    "# vec = np.random.randint(1,10,size = (1, dim,3))\n",
    "# model.predict(vec)"
   ]
  },
  {
   "cell_type": "markdown",
   "metadata": {},
   "source": [
    "## Concatenate"
   ]
  },
  {
   "cell_type": "code",
   "execution_count": 7,
   "metadata": {},
   "outputs": [],
   "source": [
    "input1 = Input(shape = (dim,))\n",
    "input2 = Input(shape = (dim,))\n",
    "outputs = Concatenate(axis = -1)([input1, input2])\n",
    "model2 = Model([input1, input2], outputs)"
   ]
  },
  {
   "cell_type": "code",
   "execution_count": 8,
   "metadata": {},
   "outputs": [
    {
     "name": "stdout",
     "output_type": "stream",
     "text": [
      "Input1:  [[6 3 7 3 8 4 7 3 2 2 3 9]]\n",
      "Input2:  [[4 5 3 3 3 4 3 5 3 4 2 3]]\n"
     ]
    },
    {
     "data": {
      "text/plain": [
       "array([[6., 3., 7., 3., 8., 4., 7., 3., 2., 2., 3., 9., 4., 5., 3., 3.,\n",
       "        3., 4., 3., 5., 3., 4., 2., 3.]], dtype=float32)"
      ]
     },
     "execution_count": 8,
     "metadata": {},
     "output_type": "execute_result"
    }
   ],
   "source": [
    "input_1_data = np.random.randint(1,10,size = (1, dim))\n",
    "input_2_data = np.random.randint(1,10,size = (1, dim))\n",
    "print('Input1: ', input_1_data)\n",
    "print('Input2: ', input_2_data)\n",
    "preds = model2.predict([input_1_data, input_2_data])\n",
    "preds"
   ]
  },
  {
   "cell_type": "code",
   "execution_count": 9,
   "metadata": {},
   "outputs": [
    {
     "data": {
      "text/plain": [
       "(1, 12)"
      ]
     },
     "execution_count": 9,
     "metadata": {},
     "output_type": "execute_result"
    }
   ],
   "source": [
    "input_1_data.shape"
   ]
  },
  {
   "cell_type": "code",
   "execution_count": 10,
   "metadata": {},
   "outputs": [
    {
     "data": {
      "text/plain": [
       "(1, 24)"
      ]
     },
     "execution_count": 10,
     "metadata": {},
     "output_type": "execute_result"
    }
   ],
   "source": [
    "preds.shape"
   ]
  },
  {
   "cell_type": "markdown",
   "metadata": {},
   "source": [
    "### Concate with different lengths"
   ]
  },
  {
   "cell_type": "code",
   "execution_count": 11,
   "metadata": {},
   "outputs": [],
   "source": [
    "dim1 = 5\n",
    "dim2 = 7\n",
    "\n",
    "input1 = Input(shape = (dim1,))\n",
    "input2 = Input(shape = (dim2,))\n",
    "outputs = Concatenate(axis = -1)([input1, input2])\n",
    "model3 = Model([input1, input2], outputs)"
   ]
  },
  {
   "cell_type": "code",
   "execution_count": 12,
   "metadata": {},
   "outputs": [
    {
     "data": {
      "text/plain": [
       "(1, 12)"
      ]
     },
     "execution_count": 12,
     "metadata": {},
     "output_type": "execute_result"
    }
   ],
   "source": [
    "input_1_data = np.random.randint(1,10,size = (1, dim1))\n",
    "input_2_data = np.random.randint(1,10,size = (1, dim2))\n",
    "model3.predict([input_1_data, input_2_data]).shape"
   ]
  },
  {
   "cell_type": "markdown",
   "metadata": {},
   "source": [
    "### Multi-dimensional concatenation"
   ]
  },
  {
   "cell_type": "markdown",
   "metadata": {},
   "source": [
    "You would never want to concatenate things on 0-th dimension, since it is batch dimension      \n",
    "You concat things on -1 dimension mostly.        \n",
    "On high dimensional data, you may concat things on specified dimension       "
   ]
  },
  {
   "cell_type": "code",
   "execution_count": 13,
   "metadata": {},
   "outputs": [],
   "source": [
    "input1 = Input(shape = (dim1,dim2,))\n",
    "input2 = Input(shape = (dim1,dim2,))\n",
    "outputs = Concatenate(axis = 1)([input1, input2])\n",
    "model4 = Model([input1, input2], outputs)"
   ]
  },
  {
   "cell_type": "code",
   "execution_count": 14,
   "metadata": {},
   "outputs": [],
   "source": [
    "input_data_1 = np.random.randint(1,10,size = (1, dim1, dim2))\n",
    "input_data_2 = np.random.randint(1,10,size = (1, dim1, dim2))"
   ]
  },
  {
   "cell_type": "code",
   "execution_count": 15,
   "metadata": {},
   "outputs": [
    {
     "data": {
      "text/plain": [
       "array([[[2, 7, 6, 8, 7, 9, 7],\n",
       "        [8, 6, 1, 7, 3, 4, 9],\n",
       "        [8, 4, 6, 4, 1, 4, 4],\n",
       "        [2, 8, 7, 5, 8, 8, 4],\n",
       "        [7, 8, 5, 5, 3, 9, 4]]])"
      ]
     },
     "execution_count": 15,
     "metadata": {},
     "output_type": "execute_result"
    }
   ],
   "source": [
    "input_data_1"
   ]
  },
  {
   "cell_type": "code",
   "execution_count": 16,
   "metadata": {},
   "outputs": [
    {
     "data": {
      "text/plain": [
       "array([[[2, 5, 2, 4, 8, 1, 6],\n",
       "        [6, 6, 7, 9, 7, 3, 6],\n",
       "        [2, 3, 8, 2, 2, 6, 6],\n",
       "        [2, 8, 9, 8, 8, 7, 7],\n",
       "        [9, 2, 1, 1, 1, 2, 8]]])"
      ]
     },
     "execution_count": 16,
     "metadata": {},
     "output_type": "execute_result"
    }
   ],
   "source": [
    "input_data_2"
   ]
  },
  {
   "cell_type": "code",
   "execution_count": 17,
   "metadata": {},
   "outputs": [
    {
     "data": {
      "text/plain": [
       "array([[[2., 7., 6., 8., 7., 9., 7.],\n",
       "        [8., 6., 1., 7., 3., 4., 9.],\n",
       "        [8., 4., 6., 4., 1., 4., 4.],\n",
       "        [2., 8., 7., 5., 8., 8., 4.],\n",
       "        [7., 8., 5., 5., 3., 9., 4.],\n",
       "        [2., 5., 2., 4., 8., 1., 6.],\n",
       "        [6., 6., 7., 9., 7., 3., 6.],\n",
       "        [2., 3., 8., 2., 2., 6., 6.],\n",
       "        [2., 8., 9., 8., 8., 7., 7.],\n",
       "        [9., 2., 1., 1., 1., 2., 8.]]], dtype=float32)"
      ]
     },
     "execution_count": 17,
     "metadata": {},
     "output_type": "execute_result"
    }
   ],
   "source": [
    "preds = model4.predict([input_data_1, input_data_2])\n",
    "preds"
   ]
  },
  {
   "cell_type": "code",
   "execution_count": 18,
   "metadata": {},
   "outputs": [
    {
     "data": {
      "text/plain": [
       "(1, 10, 7)"
      ]
     },
     "execution_count": 18,
     "metadata": {},
     "output_type": "execute_result"
    }
   ],
   "source": [
    "preds.shape"
   ]
  },
  {
   "cell_type": "code",
   "execution_count": 19,
   "metadata": {},
   "outputs": [
    {
     "data": {
      "text/plain": [
       "array([[[2., 7., 6., 8., 7., 9., 7., 2., 5., 2., 4., 8., 1., 6.],\n",
       "        [8., 6., 1., 7., 3., 4., 9., 6., 6., 7., 9., 7., 3., 6.],\n",
       "        [8., 4., 6., 4., 1., 4., 4., 2., 3., 8., 2., 2., 6., 6.],\n",
       "        [2., 8., 7., 5., 8., 8., 4., 2., 8., 9., 8., 8., 7., 7.],\n",
       "        [7., 8., 5., 5., 3., 9., 4., 9., 2., 1., 1., 1., 2., 8.]]],\n",
       "      dtype=float32)"
      ]
     },
     "execution_count": 19,
     "metadata": {},
     "output_type": "execute_result"
    }
   ],
   "source": [
    "input1 = Input(shape = (dim1,dim2,))\n",
    "input2 = Input(shape = (dim1,dim2,))\n",
    "outputs = Concatenate(axis = 2)([input1, input2])\n",
    "outputs_1 = Concatenate(axis = -1)([input1, input2])\n",
    "model5 = Model([input1, input2], outputs)\n",
    "model6 = Model([input1, input2], outputs_1)\n",
    "\n",
    "preds = model5.predict([input_data_1, input_data_2])\n",
    "preds"
   ]
  },
  {
   "cell_type": "code",
   "execution_count": 20,
   "metadata": {},
   "outputs": [
    {
     "data": {
      "text/plain": [
       "(1, 5, 14)"
      ]
     },
     "execution_count": 20,
     "metadata": {},
     "output_type": "execute_result"
    }
   ],
   "source": [
    "preds.shape"
   ]
  },
  {
   "cell_type": "code",
   "execution_count": 21,
   "metadata": {},
   "outputs": [
    {
     "data": {
      "text/plain": [
       "array([[[2., 7., 6., 8., 7., 9., 7., 2., 5., 2., 4., 8., 1., 6.],\n",
       "        [8., 6., 1., 7., 3., 4., 9., 6., 6., 7., 9., 7., 3., 6.],\n",
       "        [8., 4., 6., 4., 1., 4., 4., 2., 3., 8., 2., 2., 6., 6.],\n",
       "        [2., 8., 7., 5., 8., 8., 4., 2., 8., 9., 8., 8., 7., 7.],\n",
       "        [7., 8., 5., 5., 3., 9., 4., 9., 2., 1., 1., 1., 2., 8.]]],\n",
       "      dtype=float32)"
      ]
     },
     "execution_count": 21,
     "metadata": {},
     "output_type": "execute_result"
    }
   ],
   "source": [
    "preds = model5.predict([input_data_1, input_data_2])\n",
    "preds"
   ]
  },
  {
   "cell_type": "code",
   "execution_count": 22,
   "metadata": {},
   "outputs": [
    {
     "data": {
      "text/plain": [
       "(1, 5, 14)"
      ]
     },
     "execution_count": 22,
     "metadata": {},
     "output_type": "execute_result"
    }
   ],
   "source": [
    "preds.shape"
   ]
  },
  {
   "cell_type": "code",
   "execution_count": 23,
   "metadata": {},
   "outputs": [
    {
     "name": "stdout",
     "output_type": "stream",
     "text": [
      "Model: \"model_5\"\n",
      "__________________________________________________________________________________________________\n",
      "Layer (type)                    Output Shape         Param #     Connected to                     \n",
      "==================================================================================================\n",
      "input_8 (InputLayer)            (None, 5, 7)         0                                            \n",
      "__________________________________________________________________________________________________\n",
      "input_9 (InputLayer)            (None, 5, 7)         0                                            \n",
      "__________________________________________________________________________________________________\n",
      "concatenate_4 (Concatenate)     (None, 5, 14)        0           input_8[0][0]                    \n",
      "                                                                 input_9[0][0]                    \n",
      "==================================================================================================\n",
      "Total params: 0\n",
      "Trainable params: 0\n",
      "Non-trainable params: 0\n",
      "__________________________________________________________________________________________________\n"
     ]
    }
   ],
   "source": [
    "model5.summary()"
   ]
  },
  {
   "cell_type": "code",
   "execution_count": 49,
   "metadata": {},
   "outputs": [],
   "source": [
    "mat = np.ones((10,5))*(np.array([0,1,2,3,4,5,6,7,8,9]).reshape(-1,1))\n",
    "mat = np.array([mat])"
   ]
  },
  {
   "cell_type": "code",
   "execution_count": 50,
   "metadata": {},
   "outputs": [],
   "source": [
    "vec = np.ones((10,1))*2\n",
    "vec = np.array([vec])"
   ]
  },
  {
   "cell_type": "code",
   "execution_count": 54,
   "metadata": {},
   "outputs": [],
   "source": [
    "Mat = Input(shape = (10,5))\n",
    "Vec = Input(shape =(10,1))\n",
    "outputs = Dot(axes = 1)([Vec, Mat])\n",
    "model_d = Model([Mat, Vec], outputs)"
   ]
  },
  {
   "cell_type": "code",
   "execution_count": 55,
   "metadata": {},
   "outputs": [
    {
     "data": {
      "text/plain": [
       "array([[[90., 90., 90., 90., 90.]]], dtype=float32)"
      ]
     },
     "execution_count": 55,
     "metadata": {},
     "output_type": "execute_result"
    }
   ],
   "source": [
    "model_d.predict([mat,vec])"
   ]
  },
  {
   "cell_type": "code",
   "execution_count": 56,
   "metadata": {},
   "outputs": [
    {
     "data": {
      "text/plain": [
       "array([[[0., 0., 0., 0., 0.],\n",
       "        [1., 1., 1., 1., 1.],\n",
       "        [2., 2., 2., 2., 2.],\n",
       "        [3., 3., 3., 3., 3.],\n",
       "        [4., 4., 4., 4., 4.],\n",
       "        [5., 5., 5., 5., 5.],\n",
       "        [6., 6., 6., 6., 6.],\n",
       "        [7., 7., 7., 7., 7.],\n",
       "        [8., 8., 8., 8., 8.],\n",
       "        [9., 9., 9., 9., 9.]]])"
      ]
     },
     "execution_count": 56,
     "metadata": {},
     "output_type": "execute_result"
    }
   ],
   "source": [
    "mat"
   ]
  },
  {
   "cell_type": "code",
   "execution_count": 57,
   "metadata": {},
   "outputs": [
    {
     "data": {
      "text/plain": [
       "array([[[2.],\n",
       "        [2.],\n",
       "        [2.],\n",
       "        [2.],\n",
       "        [2.],\n",
       "        [2.],\n",
       "        [2.],\n",
       "        [2.],\n",
       "        [2.],\n",
       "        [2.]]])"
      ]
     },
     "execution_count": 57,
     "metadata": {},
     "output_type": "execute_result"
    }
   ],
   "source": [
    "vec"
   ]
  },
  {
   "cell_type": "code",
   "execution_count": null,
   "metadata": {},
   "outputs": [],
   "source": []
  }
 ],
 "metadata": {
  "kernelspec": {
   "display_name": "Python 3",
   "language": "python",
   "name": "python3"
  },
  "language_info": {
   "codemirror_mode": {
    "name": "ipython",
    "version": 3
   },
   "file_extension": ".py",
   "mimetype": "text/x-python",
   "name": "python",
   "nbconvert_exporter": "python",
   "pygments_lexer": "ipython3",
   "version": "3.7.3"
  }
 },
 "nbformat": 4,
 "nbformat_minor": 2
}
