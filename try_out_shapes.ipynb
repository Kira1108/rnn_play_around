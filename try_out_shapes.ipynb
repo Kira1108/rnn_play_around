{
 "cells": [
  {
   "cell_type": "code",
   "execution_count": 1,
   "metadata": {},
   "outputs": [
    {
     "name": "stderr",
     "output_type": "stream",
     "text": [
      "/Users/huan/anaconda/envs/py3/lib/python3.6/site-packages/h5py/__init__.py:36: FutureWarning: Conversion of the second argument of issubdtype from `float` to `np.floating` is deprecated. In future, it will be treated as `np.float64 == np.dtype(float).type`.\n",
      "  from ._conv import register_converters as _register_converters\n",
      "Using TensorFlow backend.\n"
     ]
    }
   ],
   "source": [
    "import numpy as np\n",
    "import tensorflow as tf\n",
    "from keras.models import Model\n",
    "from keras.layers import Dense, Input, RepeatVector, Dot, Concatenate, LSTM, Bidirectional"
   ]
  },
  {
   "cell_type": "markdown",
   "metadata": {},
   "source": [
    "### RepeatVector\n",
    "1. You have a vector, but requires a batch dimension\n",
    "2. Only 2 dimensional vector can be passed to RepeatVector\n",
    "3. Added a dimension between batch dimension and original dimension\n",
    "4. If ignore batch dimension, repeat vector adds one dimension at the begining"
   ]
  },
  {
   "cell_type": "code",
   "execution_count": 2,
   "metadata": {},
   "outputs": [
    {
     "data": {
      "text/plain": [
       "array([[5, 2, 3, 6, 1, 4, 8, 7, 6, 6, 1, 2]])"
      ]
     },
     "execution_count": 2,
     "metadata": {},
     "output_type": "execute_result"
    }
   ],
   "source": [
    "dim = 12\n",
    "vec = np.random.randint(1,10,size = (1, dim))\n",
    "vec"
   ]
  },
  {
   "cell_type": "code",
   "execution_count": 3,
   "metadata": {},
   "outputs": [],
   "source": [
    "inputs = Input(shape = (dim,))\n",
    "outputs = RepeatVector(3)(inputs)\n",
    "model = Model(inputs = inputs, outputs = outputs)"
   ]
  },
  {
   "cell_type": "code",
   "execution_count": 4,
   "metadata": {},
   "outputs": [
    {
     "data": {
      "text/plain": [
       "array([[[5., 2., 3., 6., 1., 4., 8., 7., 6., 6., 1., 2.],\n",
       "        [5., 2., 3., 6., 1., 4., 8., 7., 6., 6., 1., 2.],\n",
       "        [5., 2., 3., 6., 1., 4., 8., 7., 6., 6., 1., 2.]]], dtype=float32)"
      ]
     },
     "execution_count": 4,
     "metadata": {},
     "output_type": "execute_result"
    }
   ],
   "source": [
    "model.predict(vec)"
   ]
  },
  {
   "cell_type": "code",
   "execution_count": 5,
   "metadata": {},
   "outputs": [
    {
     "data": {
      "text/plain": [
       "(1, 3, 12)"
      ]
     },
     "execution_count": 5,
     "metadata": {},
     "output_type": "execute_result"
    }
   ],
   "source": [
    "model.predict(vec).shape"
   ]
  },
  {
   "cell_type": "markdown",
   "metadata": {},
   "source": [
    "high dimensional vector rasises an error"
   ]
  },
  {
   "cell_type": "code",
   "execution_count": 6,
   "metadata": {},
   "outputs": [],
   "source": [
    "# vec = np.random.randint(1,10,size = (1, dim,3))\n",
    "# model.predict(vec)"
   ]
  },
  {
   "cell_type": "markdown",
   "metadata": {},
   "source": [
    "## Concatenate"
   ]
  },
  {
   "cell_type": "code",
   "execution_count": 7,
   "metadata": {},
   "outputs": [],
   "source": [
    "input1 = Input(shape = (dim,))\n",
    "input2 = Input(shape = (dim,))\n",
    "outputs = Concatenate(axis = -1)([input1, input2])\n",
    "model2 = Model([input1, input2], outputs)"
   ]
  },
  {
   "cell_type": "code",
   "execution_count": 8,
   "metadata": {},
   "outputs": [
    {
     "name": "stdout",
     "output_type": "stream",
     "text": [
      "Input1:  [[5 4 9 7 4 8 1 1 5 7 9 1]]\n",
      "Input2:  [[8 1 3 1 2 1 2 5 8 7 3 4]]\n"
     ]
    },
    {
     "data": {
      "text/plain": [
       "array([[5., 4., 9., 7., 4., 8., 1., 1., 5., 7., 9., 1., 8., 1., 3., 1.,\n",
       "        2., 1., 2., 5., 8., 7., 3., 4.]], dtype=float32)"
      ]
     },
     "execution_count": 8,
     "metadata": {},
     "output_type": "execute_result"
    }
   ],
   "source": [
    "input_1_data = np.random.randint(1,10,size = (1, dim))\n",
    "input_2_data = np.random.randint(1,10,size = (1, dim))\n",
    "print('Input1: ', input_1_data)\n",
    "print('Input2: ', input_2_data)\n",
    "preds = model2.predict([input_1_data, input_2_data])\n",
    "preds"
   ]
  },
  {
   "cell_type": "code",
   "execution_count": 9,
   "metadata": {},
   "outputs": [
    {
     "data": {
      "text/plain": [
       "(1, 12)"
      ]
     },
     "execution_count": 9,
     "metadata": {},
     "output_type": "execute_result"
    }
   ],
   "source": [
    "input_1_data.shape"
   ]
  },
  {
   "cell_type": "code",
   "execution_count": 10,
   "metadata": {},
   "outputs": [
    {
     "data": {
      "text/plain": [
       "(1, 24)"
      ]
     },
     "execution_count": 10,
     "metadata": {},
     "output_type": "execute_result"
    }
   ],
   "source": [
    "preds.shape"
   ]
  },
  {
   "cell_type": "markdown",
   "metadata": {},
   "source": [
    "### Concate with different lengths"
   ]
  },
  {
   "cell_type": "code",
   "execution_count": 11,
   "metadata": {},
   "outputs": [],
   "source": [
    "dim1 = 5\n",
    "dim2 = 7\n",
    "\n",
    "input1 = Input(shape = (dim1,))\n",
    "input2 = Input(shape = (dim2,))\n",
    "outputs = Concatenate(axis = -1)([input1, input2])\n",
    "model3 = Model([input1, input2], outputs)"
   ]
  },
  {
   "cell_type": "code",
   "execution_count": 12,
   "metadata": {},
   "outputs": [
    {
     "data": {
      "text/plain": [
       "(1, 12)"
      ]
     },
     "execution_count": 12,
     "metadata": {},
     "output_type": "execute_result"
    }
   ],
   "source": [
    "input_1_data = np.random.randint(1,10,size = (1, dim1))\n",
    "input_2_data = np.random.randint(1,10,size = (1, dim2))\n",
    "model3.predict([input_1_data, input_2_data]).shape"
   ]
  },
  {
   "cell_type": "markdown",
   "metadata": {},
   "source": [
    "### Multi-dimensional concatenation"
   ]
  },
  {
   "cell_type": "markdown",
   "metadata": {},
   "source": [
    "You would never want to concatenate things on 0-th dimension, since it is batch dimension      \n",
    "You concat things on -1 dimension mostly.        \n",
    "On high dimensional data, you may concat things on specified dimension       "
   ]
  },
  {
   "cell_type": "code",
   "execution_count": 13,
   "metadata": {},
   "outputs": [],
   "source": [
    "input1 = Input(shape = (dim1,dim2,))\n",
    "input2 = Input(shape = (dim1,dim2,))\n",
    "outputs = Concatenate(axis = 1)([input1, input2])\n",
    "model4 = Model([input1, input2], outputs)"
   ]
  },
  {
   "cell_type": "code",
   "execution_count": 14,
   "metadata": {},
   "outputs": [],
   "source": [
    "input_data_1 = np.random.randint(1,10,size = (1, dim1, dim2))\n",
    "input_data_2 = np.random.randint(1,10,size = (1, dim1, dim2))"
   ]
  },
  {
   "cell_type": "code",
   "execution_count": 15,
   "metadata": {},
   "outputs": [
    {
     "data": {
      "text/plain": [
       "array([[[3, 8, 3, 7, 9, 4, 8],\n",
       "        [1, 7, 2, 8, 6, 4, 4],\n",
       "        [4, 2, 5, 7, 8, 4, 9],\n",
       "        [6, 1, 4, 8, 3, 2, 9],\n",
       "        [3, 7, 1, 2, 5, 6, 4]]])"
      ]
     },
     "execution_count": 15,
     "metadata": {},
     "output_type": "execute_result"
    }
   ],
   "source": [
    "input_data_1"
   ]
  },
  {
   "cell_type": "code",
   "execution_count": 16,
   "metadata": {},
   "outputs": [
    {
     "data": {
      "text/plain": [
       "array([[[6, 8, 7, 6, 1, 5, 5],\n",
       "        [1, 6, 8, 7, 4, 5, 2],\n",
       "        [4, 2, 3, 8, 1, 4, 6],\n",
       "        [4, 4, 4, 7, 7, 5, 6],\n",
       "        [7, 1, 4, 4, 4, 7, 3]]])"
      ]
     },
     "execution_count": 16,
     "metadata": {},
     "output_type": "execute_result"
    }
   ],
   "source": [
    "input_data_2"
   ]
  },
  {
   "cell_type": "code",
   "execution_count": 17,
   "metadata": {},
   "outputs": [
    {
     "data": {
      "text/plain": [
       "array([[[3., 8., 3., 7., 9., 4., 8.],\n",
       "        [1., 7., 2., 8., 6., 4., 4.],\n",
       "        [4., 2., 5., 7., 8., 4., 9.],\n",
       "        [6., 1., 4., 8., 3., 2., 9.],\n",
       "        [3., 7., 1., 2., 5., 6., 4.],\n",
       "        [6., 8., 7., 6., 1., 5., 5.],\n",
       "        [1., 6., 8., 7., 4., 5., 2.],\n",
       "        [4., 2., 3., 8., 1., 4., 6.],\n",
       "        [4., 4., 4., 7., 7., 5., 6.],\n",
       "        [7., 1., 4., 4., 4., 7., 3.]]], dtype=float32)"
      ]
     },
     "execution_count": 17,
     "metadata": {},
     "output_type": "execute_result"
    }
   ],
   "source": [
    "preds = model4.predict([input_data_1, input_data_2])\n",
    "preds"
   ]
  },
  {
   "cell_type": "code",
   "execution_count": 18,
   "metadata": {},
   "outputs": [
    {
     "data": {
      "text/plain": [
       "(1, 10, 7)"
      ]
     },
     "execution_count": 18,
     "metadata": {},
     "output_type": "execute_result"
    }
   ],
   "source": [
    "preds.shape"
   ]
  },
  {
   "cell_type": "code",
   "execution_count": 19,
   "metadata": {},
   "outputs": [
    {
     "data": {
      "text/plain": [
       "array([[[3., 8., 3., 7., 9., 4., 8., 6., 8., 7., 6., 1., 5., 5.],\n",
       "        [1., 7., 2., 8., 6., 4., 4., 1., 6., 8., 7., 4., 5., 2.],\n",
       "        [4., 2., 5., 7., 8., 4., 9., 4., 2., 3., 8., 1., 4., 6.],\n",
       "        [6., 1., 4., 8., 3., 2., 9., 4., 4., 4., 7., 7., 5., 6.],\n",
       "        [3., 7., 1., 2., 5., 6., 4., 7., 1., 4., 4., 4., 7., 3.]]],\n",
       "      dtype=float32)"
      ]
     },
     "execution_count": 19,
     "metadata": {},
     "output_type": "execute_result"
    }
   ],
   "source": [
    "input1 = Input(shape = (dim1,dim2,))\n",
    "input2 = Input(shape = (dim1,dim2,))\n",
    "outputs = Concatenate(axis = 2)([input1, input2])\n",
    "outputs_1 = Concatenate(axis = -1)([input1, input2])\n",
    "model5 = Model([input1, input2], outputs)\n",
    "model6 = Model([input1, input2], outputs_1)\n",
    "\n",
    "preds = model5.predict([input_data_1, input_data_2])\n",
    "preds"
   ]
  },
  {
   "cell_type": "code",
   "execution_count": 20,
   "metadata": {},
   "outputs": [
    {
     "data": {
      "text/plain": [
       "(1, 5, 14)"
      ]
     },
     "execution_count": 20,
     "metadata": {},
     "output_type": "execute_result"
    }
   ],
   "source": [
    "preds.shape"
   ]
  },
  {
   "cell_type": "code",
   "execution_count": 21,
   "metadata": {},
   "outputs": [
    {
     "data": {
      "text/plain": [
       "array([[[3., 8., 3., 7., 9., 4., 8., 6., 8., 7., 6., 1., 5., 5.],\n",
       "        [1., 7., 2., 8., 6., 4., 4., 1., 6., 8., 7., 4., 5., 2.],\n",
       "        [4., 2., 5., 7., 8., 4., 9., 4., 2., 3., 8., 1., 4., 6.],\n",
       "        [6., 1., 4., 8., 3., 2., 9., 4., 4., 4., 7., 7., 5., 6.],\n",
       "        [3., 7., 1., 2., 5., 6., 4., 7., 1., 4., 4., 4., 7., 3.]]],\n",
       "      dtype=float32)"
      ]
     },
     "execution_count": 21,
     "metadata": {},
     "output_type": "execute_result"
    }
   ],
   "source": [
    "preds = model5.predict([input_data_1, input_data_2])\n",
    "preds"
   ]
  },
  {
   "cell_type": "code",
   "execution_count": 22,
   "metadata": {},
   "outputs": [
    {
     "data": {
      "text/plain": [
       "(1, 5, 14)"
      ]
     },
     "execution_count": 22,
     "metadata": {},
     "output_type": "execute_result"
    }
   ],
   "source": [
    "preds.shape"
   ]
  },
  {
   "cell_type": "code",
   "execution_count": 23,
   "metadata": {},
   "outputs": [
    {
     "name": "stdout",
     "output_type": "stream",
     "text": [
      "Model: \"model_5\"\n",
      "__________________________________________________________________________________________________\n",
      "Layer (type)                    Output Shape         Param #     Connected to                     \n",
      "==================================================================================================\n",
      "input_8 (InputLayer)            (None, 5, 7)         0                                            \n",
      "__________________________________________________________________________________________________\n",
      "input_9 (InputLayer)            (None, 5, 7)         0                                            \n",
      "__________________________________________________________________________________________________\n",
      "concatenate_4 (Concatenate)     (None, 5, 14)        0           input_8[0][0]                    \n",
      "                                                                 input_9[0][0]                    \n",
      "==================================================================================================\n",
      "Total params: 0\n",
      "Trainable params: 0\n",
      "Non-trainable params: 0\n",
      "__________________________________________________________________________________________________\n"
     ]
    }
   ],
   "source": [
    "model5.summary()"
   ]
  },
  {
   "cell_type": "code",
   "execution_count": 24,
   "metadata": {},
   "outputs": [],
   "source": [
    "mat = np.ones((10,5))*(np.array([0,1,2,3,4,5,6,7,8,9]).reshape(-1,1))\n",
    "mat = np.array([mat])"
   ]
  },
  {
   "cell_type": "code",
   "execution_count": 25,
   "metadata": {},
   "outputs": [],
   "source": [
    "vec = np.ones((10,1))*2\n",
    "vec = np.array([vec])"
   ]
  },
  {
   "cell_type": "code",
   "execution_count": 26,
   "metadata": {},
   "outputs": [],
   "source": [
    "Mat = Input(shape = (10,5))\n",
    "Vec = Input(shape =(10,1))\n",
    "outputs = Dot(axes = 1)([Vec, Mat])\n",
    "model_d = Model([Mat, Vec], outputs)"
   ]
  },
  {
   "cell_type": "code",
   "execution_count": 27,
   "metadata": {},
   "outputs": [
    {
     "data": {
      "text/plain": [
       "array([[[90., 90., 90., 90., 90.]]], dtype=float32)"
      ]
     },
     "execution_count": 27,
     "metadata": {},
     "output_type": "execute_result"
    }
   ],
   "source": [
    "model_d.predict([mat,vec])"
   ]
  },
  {
   "cell_type": "code",
   "execution_count": 37,
   "metadata": {},
   "outputs": [
    {
     "data": {
      "text/plain": [
       "array([[0., 0., 0., 0., 0.],\n",
       "       [1., 1., 1., 1., 1.],\n",
       "       [2., 2., 2., 2., 2.],\n",
       "       [3., 3., 3., 3., 3.],\n",
       "       [4., 4., 4., 4., 4.],\n",
       "       [5., 5., 5., 5., 5.],\n",
       "       [6., 6., 6., 6., 6.],\n",
       "       [7., 7., 7., 7., 7.],\n",
       "       [8., 8., 8., 8., 8.],\n",
       "       [9., 9., 9., 9., 9.]])"
      ]
     },
     "execution_count": 37,
     "metadata": {},
     "output_type": "execute_result"
    }
   ],
   "source": [
    "mat[0]"
   ]
  },
  {
   "cell_type": "code",
   "execution_count": 38,
   "metadata": {},
   "outputs": [
    {
     "data": {
      "text/plain": [
       "array([[2.],\n",
       "       [2.],\n",
       "       [2.],\n",
       "       [2.],\n",
       "       [2.],\n",
       "       [2.],\n",
       "       [2.],\n",
       "       [2.],\n",
       "       [2.],\n",
       "       [2.]])"
      ]
     },
     "execution_count": 38,
     "metadata": {},
     "output_type": "execute_result"
    }
   ],
   "source": [
    "vec[0]"
   ]
  },
  {
   "cell_type": "code",
   "execution_count": 31,
   "metadata": {},
   "outputs": [
    {
     "data": {
      "text/plain": [
       "(1, 10, 5)"
      ]
     },
     "execution_count": 31,
     "metadata": {},
     "output_type": "execute_result"
    }
   ],
   "source": [
    "mat.shape"
   ]
  },
  {
   "cell_type": "code",
   "execution_count": 35,
   "metadata": {},
   "outputs": [
    {
     "data": {
      "text/plain": [
       "array([[90., 90., 90., 90., 90.]])"
      ]
     },
     "execution_count": 35,
     "metadata": {},
     "output_type": "execute_result"
    }
   ],
   "source": [
    "np.dot(vec[0].T,mat[0])"
   ]
  },
  {
   "cell_type": "markdown",
   "metadata": {},
   "source": [
    "## Tryout attention encoding"
   ]
  },
  {
   "cell_type": "code",
   "execution_count": 85,
   "metadata": {},
   "outputs": [],
   "source": [
    "from keras.layers import LSTM, Dense, Input, Embedding, Bidirectional, RepeatVector, Concatenate, Dot\n",
    "from keras.models import Model"
   ]
  },
  {
   "cell_type": "code",
   "execution_count": 50,
   "metadata": {},
   "outputs": [],
   "source": [
    "Tx = 100\n",
    "M1 = 15\n",
    "D = 50\n",
    "V = 10000"
   ]
  },
  {
   "cell_type": "markdown",
   "metadata": {},
   "source": [
    "#### Encoder part"
   ]
  },
  {
   "cell_type": "code",
   "execution_count": 72,
   "metadata": {},
   "outputs": [],
   "source": [
    "seq_input = Input(shape = (Tx, ), name = 'token_input')\n",
    "embedding_layer = Embedding(V, D, input_length = Tx, name = 'embedding')\n",
    "embed_input = embedding_layer(seq_input)\n",
    "\n",
    "encoder_lstm = Bidirectional(LSTM(M1, return_sequences = True), name = 'encoder')\n",
    "encoder_out = encoder_lstm(embed_input)\n",
    "\n",
    "m = Model(inputs = seq_input, outputs = encoder_out)"
   ]
  },
  {
   "cell_type": "code",
   "execution_count": 73,
   "metadata": {},
   "outputs": [
    {
     "name": "stdout",
     "output_type": "stream",
     "text": [
      "Model: \"model_13\"\n",
      "_________________________________________________________________\n",
      "Layer (type)                 Output Shape              Param #   \n",
      "=================================================================\n",
      "token_input (InputLayer)     (None, 100)               0         \n",
      "_________________________________________________________________\n",
      "embedding (Embedding)        (None, 100, 50)           500000    \n",
      "_________________________________________________________________\n",
      "encoder (Bidirectional)      (None, 100, 30)           7920      \n",
      "=================================================================\n",
      "Total params: 507,920\n",
      "Trainable params: 507,920\n",
      "Non-trainable params: 0\n",
      "_________________________________________________________________\n"
     ]
    }
   ],
   "source": [
    "model.summary()"
   ]
  },
  {
   "cell_type": "markdown",
   "metadata": {},
   "source": [
    "#### Decoder part"
   ]
  },
  {
   "cell_type": "code",
   "execution_count": 80,
   "metadata": {},
   "outputs": [],
   "source": [
    "Ty = 80\n",
    "Dd = 200\n",
    "Vd = 8000\n",
    "M2 = 45"
   ]
  },
  {
   "cell_type": "code",
   "execution_count": 81,
   "metadata": {},
   "outputs": [],
   "source": [
    "tar_input = Input(shape = (Ty,), name = 'decoder_seq_input')\n",
    "decoder_embedding = Embedding(Vd, Dd,input_length = Ty, name = 'decoder_embedding')\n",
    "decoder_input_seq = decoder_embedding(tar_input)"
   ]
  },
  {
   "cell_type": "code",
   "execution_count": 82,
   "metadata": {},
   "outputs": [],
   "source": [
    "m = Model(inputs = tar_input, outputs = decoder_input_seq)"
   ]
  },
  {
   "cell_type": "code",
   "execution_count": 83,
   "metadata": {},
   "outputs": [
    {
     "name": "stdout",
     "output_type": "stream",
     "text": [
      "Model: \"model_17\"\n",
      "_________________________________________________________________\n",
      "Layer (type)                 Output Shape              Param #   \n",
      "=================================================================\n",
      "decoder_seq_input (InputLaye (None, 80)                0         \n",
      "_________________________________________________________________\n",
      "decoder_embedding (Embedding (None, 80, 200)           1600000   \n",
      "=================================================================\n",
      "Total params: 1,600,000\n",
      "Trainable params: 1,600,000\n",
      "Non-trainable params: 0\n",
      "_________________________________________________________________\n"
     ]
    }
   ],
   "source": [
    "m.summary()"
   ]
  },
  {
   "cell_type": "markdown",
   "metadata": {},
   "source": [
    "#### One step attention"
   ]
  },
  {
   "cell_type": "code",
   "execution_count": 131,
   "metadata": {},
   "outputs": [],
   "source": [
    "import keras.backend as K"
   ]
  },
  {
   "cell_type": "code",
   "execution_count": 140,
   "metadata": {},
   "outputs": [],
   "source": [
    "def softmax_over_time(x):\n",
    "    '''\n",
    "        X is a 3 dimensional array: (Batch_size, Timstep, 1)\n",
    "    '''\n",
    "    \n",
    "    assert(K.ndim(x) > 2)\n",
    "    \n",
    "    e = K.exp(x - K.max(x, axis = 1, keepdims = True))\n",
    "    s = K.sum(e, axis = 1, keepdims = True)\n",
    "    return e / s\n",
    "    "
   ]
  },
  {
   "cell_type": "code",
   "execution_count": 141,
   "metadata": {},
   "outputs": [],
   "source": [
    "attn_repeat_layer = RepeatVector(Tx, name = 'decoder_hidden_repeat')\n",
    "attn_concat_layer = Concatenate(axis = -1, name = 'concat_over_time')"
   ]
  },
  {
   "cell_type": "code",
   "execution_count": 142,
   "metadata": {},
   "outputs": [],
   "source": [
    "h = Input(shape = (Tx, 2*M1), name = 'encoder_hidden_out')\n",
    "st_1 = Input(shape = (M2,), name = 'decoder_prev_step')\n",
    "st_1_rpt = attn_repeat_layer(st_1)\n",
    "st_1_h = attn_concat_layer([st_1_rpt, h])"
   ]
  },
  {
   "cell_type": "code",
   "execution_count": 143,
   "metadata": {},
   "outputs": [
    {
     "name": "stdout",
     "output_type": "stream",
     "text": [
      "Model: \"model_34\"\n",
      "__________________________________________________________________________________________________\n",
      "Layer (type)                    Output Shape         Param #     Connected to                     \n",
      "==================================================================================================\n",
      "decoder_prev_step (InputLayer)  (None, 45)           0                                            \n",
      "__________________________________________________________________________________________________\n",
      "decoder_hidden_repeat (RepeatVe (None, 100, 45)      0           decoder_prev_step[0][0]          \n",
      "__________________________________________________________________________________________________\n",
      "encoder_hidden_out (InputLayer) (None, 100, 30)      0                                            \n",
      "__________________________________________________________________________________________________\n",
      "concat_over_time (Concatenate)  (None, 100, 75)      0           decoder_hidden_repeat[0][0]      \n",
      "                                                                 encoder_hidden_out[0][0]         \n",
      "==================================================================================================\n",
      "Total params: 0\n",
      "Trainable params: 0\n",
      "Non-trainable params: 0\n",
      "__________________________________________________________________________________________________\n"
     ]
    }
   ],
   "source": [
    "m = Model(inputs = [st_1,h], outputs = st_1_h)\n",
    "m.summary()"
   ]
  },
  {
   "cell_type": "code",
   "execution_count": 144,
   "metadata": {},
   "outputs": [],
   "source": [
    "attn_dense1 = Dense(10,activation = 'tanh', name = 'densor1')\n",
    "attn_dense2 = Dense(1, activation = softmax_over_time, name = 'densor_over_time')"
   ]
  },
  {
   "cell_type": "code",
   "execution_count": 145,
   "metadata": {},
   "outputs": [],
   "source": [
    "alphas = attn_dense1(st_1_h)\n",
    "alphas = attn_dense2(alphas)"
   ]
  },
  {
   "cell_type": "code",
   "execution_count": 146,
   "metadata": {},
   "outputs": [
    {
     "name": "stdout",
     "output_type": "stream",
     "text": [
      "Model: \"model_35\"\n",
      "__________________________________________________________________________________________________\n",
      "Layer (type)                    Output Shape         Param #     Connected to                     \n",
      "==================================================================================================\n",
      "decoder_prev_step (InputLayer)  (None, 45)           0                                            \n",
      "__________________________________________________________________________________________________\n",
      "decoder_hidden_repeat (RepeatVe (None, 100, 45)      0           decoder_prev_step[0][0]          \n",
      "__________________________________________________________________________________________________\n",
      "encoder_hidden_out (InputLayer) (None, 100, 30)      0                                            \n",
      "__________________________________________________________________________________________________\n",
      "concat_over_time (Concatenate)  (None, 100, 75)      0           decoder_hidden_repeat[0][0]      \n",
      "                                                                 encoder_hidden_out[0][0]         \n",
      "__________________________________________________________________________________________________\n",
      "densor1 (Dense)                 (None, 100, 10)      760         concat_over_time[0][0]           \n",
      "__________________________________________________________________________________________________\n",
      "densor_over_time (Dense)        (None, 100, 1)       11          densor1[0][0]                    \n",
      "==================================================================================================\n",
      "Total params: 771\n",
      "Trainable params: 771\n",
      "Non-trainable params: 0\n",
      "__________________________________________________________________________________________________\n"
     ]
    }
   ],
   "source": [
    "m = Model(inputs = [st_1,h], outputs = alphas)\n",
    "m.summary()"
   ]
  },
  {
   "cell_type": "code",
   "execution_count": 147,
   "metadata": {},
   "outputs": [],
   "source": [
    "from keras.utils import plot_model"
   ]
  },
  {
   "cell_type": "code",
   "execution_count": 148,
   "metadata": {},
   "outputs": [
    {
     "data": {
      "image/png": "[encoded data removed]",
      "text/plain": [
       "<IPython.core.display.Image object>"
      ]
     },
     "execution_count": 148,
     "metadata": {},
     "output_type": "execute_result"
    }
   ],
   "source": [
    "plot_model(m)"
   ]
  },
  {
   "cell_type": "markdown",
   "metadata": {},
   "source": [
    "## The fucking dot layer"
   ]
  },
  {
   "cell_type": "code",
   "execution_count": 152,
   "metadata": {},
   "outputs": [],
   "source": [
    "attn_dot = Dot(axes = 1, name = 'WA_encoder_hiddens')"
   ]
  },
  {
   "cell_type": "code",
   "execution_count": 153,
   "metadata": {},
   "outputs": [],
   "source": [
    "ctx = attn_dot([alphas, h])"
   ]
  },
  {
   "cell_type": "code",
   "execution_count": 154,
   "metadata": {},
   "outputs": [
    {
     "name": "stdout",
     "output_type": "stream",
     "text": [
      "Model: \"model_36\"\n",
      "__________________________________________________________________________________________________\n",
      "Layer (type)                    Output Shape         Param #     Connected to                     \n",
      "==================================================================================================\n",
      "decoder_prev_step (InputLayer)  (None, 45)           0                                            \n",
      "__________________________________________________________________________________________________\n",
      "decoder_hidden_repeat (RepeatVe (None, 100, 45)      0           decoder_prev_step[0][0]          \n",
      "__________________________________________________________________________________________________\n",
      "encoder_hidden_out (InputLayer) (None, 100, 30)      0                                            \n",
      "__________________________________________________________________________________________________\n",
      "concat_over_time (Concatenate)  (None, 100, 75)      0           decoder_hidden_repeat[0][0]      \n",
      "                                                                 encoder_hidden_out[0][0]         \n",
      "__________________________________________________________________________________________________\n",
      "densor1 (Dense)                 (None, 100, 10)      760         concat_over_time[0][0]           \n",
      "__________________________________________________________________________________________________\n",
      "densor_over_time (Dense)        (None, 100, 1)       11          densor1[0][0]                    \n",
      "__________________________________________________________________________________________________\n",
      "WA_encoder_hiddens (Dot)        (None, 1, 30)        0           densor_over_time[0][0]           \n",
      "                                                                 encoder_hidden_out[0][0]         \n",
      "==================================================================================================\n",
      "Total params: 771\n",
      "Trainable params: 771\n",
      "Non-trainable params: 0\n",
      "__________________________________________________________________________________________________\n"
     ]
    }
   ],
   "source": [
    "m = Model(inputs = [st_1,h], outputs = ctx)\n",
    "m.summary()"
   ]
  },
  {
   "cell_type": "markdown",
   "metadata": {},
   "source": [
    "## 厉害了    \n",
    "encoder_hidden_out (InputLayer) 是一个 (batch, 100, 30) 的矩阵          \n",
    "densor_over_time   (Dense)      是一个 (batch, 100, 1) 的列向量          \n",
    "然后 dot 一下，相当于 (1, 100) @ (100, 30) = (1, 30)           \n",
    "加上一个batch维度 = (batch, 1, 30)          \n",
    "\n",
    "\n",
    "**axes = 1 相当于从第一维度开始，后面的维都算，然后相乘起来**"
   ]
  },
  {
   "cell_type": "markdown",
   "metadata": {},
   "source": [
    "## Always Repeat your knowledge"
   ]
  },
  {
   "cell_type": "code",
   "execution_count": 220,
   "metadata": {},
   "outputs": [],
   "source": [
    "Tx = 100       # encoder input length\n",
    "Ty = 200       # decoder input length\n",
    "Vx = 10000     # encoder vocab size\n",
    "Vy = 20000     # decoder vocab size\n",
    "Dx = 300       # encoder embedding dim\n",
    "Dy = 400       # decoder embedding dim\n",
    "Mx = 25        # encoder hidden vector size\n",
    "My = 20        # decoder hidden vector size\n",
    "\n",
    "\n",
    "def encoder_block(Tx, Vx, Dx, Mx, summary = True):\n",
    "    \n",
    "    '''\n",
    "        Encoder a sequence of tokens into a sequence of hidde vectors\n",
    "    '''\n",
    "    seq_input = Input(shape = (Tx,), name = 'encoder_token_input') \n",
    "    embedding_layer = Embedding(Vx, Dx, input_length = Tx, name = 'encoder_embedding')\n",
    "    embedded_encoder_seq = embedding_layer(seq_input)\n",
    "    encoder_lstm = Bidirectional(LSTM(Mx,return_sequences = True), name = 'encoder_lstm')\n",
    "    encoder_hidden_seq = encoder_lstm(embedded_encoder_seq)\n",
    "    en_m = Model(seq_input,encoder_hidden_seq,name = 'encoder_block')\n",
    "    \n",
    "    if summary:\n",
    "        en_m.summary()\n",
    "    return en_m\n",
    "\n",
    "def decoder_input_block(Ty,Vy, Dy, summary = True):\n",
    "    \n",
    "    '''\n",
    "        Convert a teaching forcing input into a embedding sequence\n",
    "    '''\n",
    "\n",
    "    decoder_input = Input(shape = (Ty,), name = 'teaching_forcing_input')\n",
    "    embedding_layer = Embedding(Vy, Dy, input_length = Ty, name ='decoder_embedding')\n",
    "    embedded_decoder_seq = embedding_layer(decoder_input)\n",
    "    de_in_m = Model(inputs = decoder_input, outputs = embedded_decoder_seq, name = 'decoder_input_block')\n",
    "    if summary:\n",
    "        de_in_m.summary()\n",
    "        \n",
    "    return de_in_m\n",
    "\n",
    "def one_step_attention(h, st_1, Tx = None, Mx = None, test_mode = True, summary = True):\n",
    "    \n",
    "    if test_mode:\n",
    "        h = Input(shape = (Tx, 2*Mx), name = 'encoder_outputs')\n",
    "        st_1 = Input(shape = (My,), name = 'decoder_prev')\n",
    "\n",
    "    attn_repeat_layer = RepeatVector(Tx, name = 'decoder_prev_rpt')\n",
    "    attn_concat_layer = Concatenate(axis = -1, name = 'concat')\n",
    "    attn_dense1 = Dense(10, activation = 'tanh', name = 'attention_dense1')\n",
    "    attn_dense2 = Dense(1, activation = softmax_over_time, name = 'attention_dense2')\n",
    "    attn_dot = Dot(axes = 1, name = 'attention_dot')\n",
    "\n",
    "    st_1_rpt = attn_repeat_layer(st_1)\n",
    "    attn_feature = attn_concat_layer([st_1_rpt,h])\n",
    "    \n",
    "    # Here you shold try to remember shapes\n",
    "    # attn_feature has a shape (batch_size, Tx, 2*Mx + My)\n",
    "    # and you dense on last dimension\n",
    "    alphas = attn_dense1(attn_feature)\n",
    "    alphas = attn_dense2(alphas)\n",
    "    context = attn_dot([alphas, h])\n",
    "\n",
    "    model = Model(inputs = [h,st_1],outputs = context, name = 'attn_one_step')\n",
    "    \n",
    "    if summary:\n",
    "        model.summary()\n",
    "        \n",
    "    return model"
   ]
  },
  {
   "cell_type": "code",
   "execution_count": 221,
   "metadata": {},
   "outputs": [
    {
     "name": "stdout",
     "output_type": "stream",
     "text": [
      "Model: \"encoder_block\"\n",
      "_________________________________________________________________\n",
      "Layer (type)                 Output Shape              Param #   \n",
      "=================================================================\n",
      "encoder_token_input (InputLa (None, 100)               0         \n",
      "_________________________________________________________________\n",
      "encoder_embedding (Embedding (None, 100, 300)          3000000   \n",
      "_________________________________________________________________\n",
      "encoder_lstm (Bidirectional) (None, 100, 50)           65200     \n",
      "=================================================================\n",
      "Total params: 3,065,200\n",
      "Trainable params: 3,065,200\n",
      "Non-trainable params: 0\n",
      "_________________________________________________________________\n",
      "\n",
      "\n",
      "\n",
      "Model: \"decoder_input_block\"\n",
      "_________________________________________________________________\n",
      "Layer (type)                 Output Shape              Param #   \n",
      "=================================================================\n",
      "teaching_forcing_input (Inpu (None, 200)               0         \n",
      "_________________________________________________________________\n",
      "decoder_embedding (Embedding (None, 200, 400)          8000000   \n",
      "=================================================================\n",
      "Total params: 8,000,000\n",
      "Trainable params: 8,000,000\n",
      "Non-trainable params: 0\n",
      "_________________________________________________________________\n",
      "\n",
      "\n",
      "\n",
      "Model: \"attn_one_step\"\n",
      "__________________________________________________________________________________________________\n",
      "Layer (type)                    Output Shape         Param #     Connected to                     \n",
      "==================================================================================================\n",
      "decoder_prev (InputLayer)       (None, 20)           0                                            \n",
      "__________________________________________________________________________________________________\n",
      "decoder_prev_rpt (RepeatVector) (None, 100, 20)      0           decoder_prev[0][0]               \n",
      "__________________________________________________________________________________________________\n",
      "encoder_outputs (InputLayer)    (None, 100, 50)      0                                            \n",
      "__________________________________________________________________________________________________\n",
      "concat (Concatenate)            (None, 100, 70)      0           decoder_prev_rpt[0][0]           \n",
      "                                                                 encoder_outputs[0][0]            \n",
      "__________________________________________________________________________________________________\n",
      "attention_dense1 (Dense)        (None, 100, 10)      710         concat[0][0]                     \n",
      "__________________________________________________________________________________________________\n",
      "attention_dense2 (Dense)        (None, 100, 1)       11          attention_dense1[0][0]           \n",
      "__________________________________________________________________________________________________\n",
      "attention_dot (Dot)             (None, 1, 50)        0           attention_dense2[0][0]           \n",
      "                                                                 encoder_outputs[0][0]            \n",
      "==================================================================================================\n",
      "Total params: 721\n",
      "Trainable params: 721\n",
      "Non-trainable params: 0\n",
      "__________________________________________________________________________________________________\n"
     ]
    }
   ],
   "source": [
    "encoder_model = encoder_block(Tx,Vx,Dx,Mx)\n",
    "print('\\n'*2)\n",
    "decoder_input_model = decoder_input_block(Ty,Vy,Dy)\n",
    "print('\\n'*2)\n",
    "attn_forward_model = one_step_attention(h,st_1,Tx, Mx)"
   ]
  },
  {
   "cell_type": "code",
   "execution_count": 222,
   "metadata": {},
   "outputs": [],
   "source": [
    "decoder_lstm = LSTM(My, return_state = True, name = 'decoder_lstm')\n",
    "decoder_dense = Dense(Vy, activation = 'softmax', name = 'decoder_dense_out')"
   ]
  },
  {
   "cell_type": "code",
   "execution_count": null,
   "metadata": {},
   "outputs": [],
   "source": []
  }
 ],
 "metadata": {
  "kernelspec": {
   "display_name": "Python 3",
   "language": "python",
   "name": "python3"
  },
  "language_info": {
   "codemirror_mode": {
    "name": "ipython",
    "version": 3
   },
   "file_extension": ".py",
   "mimetype": "text/x-python",
   "name": "python",
   "nbconvert_exporter": "python",
   "pygments_lexer": "ipython3",
   "version": "3.6.10"
  }
 },
 "nbformat": 4,
 "nbformat_minor": 2
}
